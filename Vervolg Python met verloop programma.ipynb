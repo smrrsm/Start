{
 "cells": [
  {
   "cell_type": "markdown",
   "metadata": {},
   "source": [
    "Het volgende veld activeren door Shift + Enter in de drukken als je in het veld staat met de cursor.\n",
    "Dit om de tutorials te activeren."
   ]
  },
  {
   "cell_type": "code",
   "execution_count": null,
   "metadata": {
    "collapsed": true
   },
   "outputs": [],
   "source": [
    "%load_ext tutormagic"
   ]
  },
  {
   "cell_type": "markdown",
   "metadata": {},
   "source": [
    "# De zevende les van Bucky\n",
    "* [Bucky 7](https://www.youtube.com/watch?v=bk22K1m0890)"
   ]
  },
  {
   "cell_type": "code",
   "execution_count": null,
   "metadata": {
    "collapsed": false
   },
   "outputs": [],
   "source": [
    "# You can try different ages and names..\n",
    "#age = 27\n",
    "age = 13\n",
    "if age < 21:\n",
    "    print(\"No beer for you!\")\n",
    "#name = \"Lucy\"\n",
    "name = \"Tommy D\"\n",
    "if name is \"Bucky\":\n",
    "    print(\"Hey there Bucky\")\n",
    "elif name is \"Lucy\":\n",
    "    print(\"What up Lucedawg\")\n",
    "elif name is \"Sammy\":\n",
    "    print(\"What up Slammy\")\n",
    "else:\n",
    "    print(\"Please sign up for the site!\")"
   ]
  },
  {
   "cell_type": "code",
   "execution_count": null,
   "metadata": {
    "collapsed": false
   },
   "outputs": [],
   "source": [
    "%%tutor\n",
    "# You can try different ages and names..\n",
    "#age = 27\n",
    "age = 13\n",
    "if age < 21:\n",
    "    print(\"No beer for you!\")\n",
    "#name = \"Lucy\"\n",
    "name = \"Tommy D\"\n",
    "if name is \"Bucky\":\n",
    "    print(\"Hey there Bucky\")\n",
    "elif name is \"Lucy\":\n",
    "    print(\"What up Lucedawg\")\n",
    "elif name is \"Sammy\":\n",
    "    print(\"What up Slammy\")\n",
    "else:\n",
    "    print(\"Please sign up for the site!\")"
   ]
  },
  {
   "cell_type": "markdown",
   "metadata": {},
   "source": [
    "# De achtste les van Bucky\n",
    "* [Bucky 8](https://www.youtube.com/watch?v=llguiJHU0kk)"
   ]
  },
  {
   "cell_type": "code",
   "execution_count": null,
   "metadata": {
    "collapsed": false
   },
   "outputs": [],
   "source": [
    "# food list and inside some items\n",
    "foods = ['bacon', 'tuna', 'ham', 'snausages', 'beef']\n",
    "\n",
    "for f in foods[:2]:\n",
    "    print(f)\n",
    "    print(len(f))"
   ]
  },
  {
   "cell_type": "markdown",
   "metadata": {},
   "source": [
    "# De negende les van Bucky\n",
    "* [Bucky 9](https://www.youtube.com/watch?v=Neir-vgPyxw)"
   ]
  },
  {
   "cell_type": "code",
   "execution_count": null,
   "metadata": {
    "collapsed": false
   },
   "outputs": [],
   "source": [
    "%%tutor\n",
    "#from 0 to 10\n",
    "for x in range(10):\n",
    "    print(x)"
   ]
  },
  {
   "cell_type": "code",
   "execution_count": null,
   "metadata": {
    "collapsed": false
   },
   "outputs": [],
   "source": [
    "%%tutor\n",
    "#from 5 to 12\n",
    "for x in range(5, 12):\n",
    "    print(x)"
   ]
  },
  {
   "cell_type": "code",
   "execution_count": null,
   "metadata": {
    "collapsed": false
   },
   "outputs": [],
   "source": [
    "%%tutor\n",
    "#from 10 to 40 increment value 5\n",
    "for x in range(10, 40, 5):\n",
    "    print(x)"
   ]
  },
  {
   "cell_type": "code",
   "execution_count": null,
   "metadata": {
    "collapsed": false
   },
   "outputs": [],
   "source": [
    "%%tutor\n",
    "#While loop\n",
    "\n",
    "buttcrack = 5\n",
    "\n",
    "while(buttcrack < 10):\n",
    "    print(buttcrack)\n",
    "    buttcrack += 1"
   ]
  },
  {
   "cell_type": "markdown",
   "metadata": {},
   "source": [
    "# De tiende les van Bucky\n",
    "* [Bucky 10](https://www.youtube.com/watch?v=k6rkvgQkW04)"
   ]
  },
  {
   "cell_type": "code",
   "execution_count": null,
   "metadata": {
    "collapsed": false
   },
   "outputs": [],
   "source": [
    "%%tutor\n",
    "magicNumber = 26\n",
    "# ok this program find a magic number\n",
    "'''\n",
    "multiple comment\n",
    "print(\"Bucky\" + \"Roberts\")\n",
    "'''\n",
    "for n in range(101):\n",
    "    if n is magicNumber:\n",
    "        print(n, \"is the magic number ! \")\n",
    "        break\n",
    "    else:\n",
    "        print(n)"
   ]
  },
  {
   "cell_type": "code",
   "execution_count": null,
   "metadata": {
    "collapsed": false
   },
   "outputs": [],
   "source": [
    "%%tutor\n",
    "#Challenge\n",
    "#Find the numbers whıch can dive 4 and 4 multiple(tetragenous) in from 0 to 100\n",
    "for n in range(101):\n",
    "    if(n % 4 is 0):\n",
    "        print(n)"
   ]
  },
  {
   "cell_type": "markdown",
   "metadata": {},
   "source": [
    "# De elfde les van Bucky\n",
    "* [Bucky 11](https://www.youtube.com/watch?v=68EhtQbgXRc)"
   ]
  },
  {
   "cell_type": "code",
   "execution_count": null,
   "metadata": {
    "collapsed": true
   },
   "outputs": [],
   "source": [
    "%%tutor\n",
    "numbersTaken = [2, 5, 12, 13, 17]\n",
    "\n",
    "print(\"Here are the numbers that are still available\")\n",
    "\n",
    "for n in range(1,20):\n",
    "    if n in numbersTaken:\n",
    "        continue\n",
    "    print(n)"
   ]
  },
  {
   "cell_type": "markdown",
   "metadata": {},
   "source": [
    "# De twaalfde les van Bucky\n",
    "* [Bucky 12](https://www.youtube.com/watch?v=j2xhtI0WTew)"
   ]
  },
  {
   "cell_type": "markdown",
   "metadata": {},
   "source": [
    "# De 13e les van Bucky\n",
    "* [Bucky 13](https://www.youtube.com/watch?v=xRIzPZlei9I)"
   ]
  },
  {
   "cell_type": "markdown",
   "metadata": {},
   "source": [
    "# De 14e les van Bucky\n",
    "* [Bucky 14](https://www.youtube.com/watch?v=mwr1AtpLMpI)"
   ]
  },
  {
   "cell_type": "markdown",
   "metadata": {},
   "source": [
    "# De 15e les van Bucky\n",
    "* [Bucky 15](https://www.youtube.com/watch?v=f3TVuuhe-fY)"
   ]
  },
  {
   "cell_type": "markdown",
   "metadata": {},
   "source": [
    "# De 16e les van Bucky\n",
    "* [Bucky 16](https://www.youtube.com/watch?v=DASOXeFFkCg)"
   ]
  },
  {
   "cell_type": "markdown",
   "metadata": {},
   "source": [
    "# De 17e les van Bucky\n",
    "* [Bucky 17](https://www.youtube.com/watch?v=QSTo9F8E6GE)"
   ]
  },
  {
   "cell_type": "markdown",
   "metadata": {},
   "source": [
    "# De 18e les van Bucky\n",
    "* [Bucky 18](https://www.youtube.com/watch?v=DJ2HSCT6Z8w)"
   ]
  },
  {
   "cell_type": "markdown",
   "metadata": {},
   "source": [
    "# De 19e les van Bucky\n",
    "* [Bucky 19](https://www.youtube.com/watch?v=23eY8n08pMc)"
   ]
  },
  {
   "cell_type": "markdown",
   "metadata": {},
   "source": [
    "# De 20ste les van Bucky\n",
    "* [Bucky 20](https://www.youtube.com/watch?v=BSNFRKG1MfE)"
   ]
  },
  {
   "cell_type": "markdown",
   "metadata": {},
   "source": [
    "# De 21ste les van Bucky\n",
    "* [Bucky 21](https://www.youtube.com/watch?v=WN4A6iJOUns)"
   ]
  },
  {
   "cell_type": "markdown",
   "metadata": {},
   "source": [
    "# Les 22 van Bucky\n",
    "* [Bucky 22](https://www.youtube.com/watch?v=GQiLweAoxgQ)"
   ]
  },
  {
   "cell_type": "markdown",
   "metadata": {},
   "source": [
    "# Les 23 van Bucky\n",
    "* [Bucky 23](https://www.youtube.com/watch?v=YV6qm6erphk)"
   ]
  },
  {
   "cell_type": "code",
   "execution_count": null,
   "metadata": {
    "collapsed": false
   },
   "outputs": [],
   "source": [
    "%%tutor\n",
    "\n",
    "mylist = []\n",
    "\n",
    "for i in range(10):\n",
    "    mylist.append(i ** 2)"
   ]
  }
 ],
 "metadata": {
  "kernelspec": {
   "display_name": "Python 2",
   "language": "python",
   "name": "python2"
  },
  "language_info": {
   "codemirror_mode": {
    "name": "ipython",
    "version": 2
   },
   "file_extension": ".py",
   "mimetype": "text/x-python",
   "name": "python",
   "nbconvert_exporter": "python",
   "pygments_lexer": "ipython2",
   "version": "2.7.13"
  }
 },
 "nbformat": 4,
 "nbformat_minor": 0
}
