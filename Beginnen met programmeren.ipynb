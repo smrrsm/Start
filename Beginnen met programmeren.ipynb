{
 "cells": [
  {
   "cell_type": "markdown",
   "metadata": {},
   "source": [
    "## Een eerste les over het programmeren\n",
    "\n",
    "Een computer kan maar drie dingen.\n",
    "    1. Iets achter elkaar doen.\n",
    "    2. Iets herhalen\n",
    "    3. Een keuze maken\n",
    "\n",
    "Om dit te oefenen heb ik programmeerpuzzels voor jullie.\n",
    "\n",
    "* [Angry Bird](https://studio.code.org/hoc/1)"
   ]
  },
  {
   "cell_type": "markdown",
   "metadata": {},
   "source": [
    "## Een tweede les over het programmeren\n",
    "\n",
    "Ook nu weer puzzels maar meer grafisch.\n",
    "\n",
    "\n",
    "* [Anna en Elsa](https://studio.code.org/s/frozen/stage/1/puzzle/1)\n",
    "\n",
    "Voor de echt snelle mensen de volgende van Minecraft.\n",
    "\n",
    "* [Minecraft](https://code.org/mc)"
   ]
  }
 ],
 "metadata": {
  "kernelspec": {
   "display_name": "Python 2",
   "language": "python",
   "name": "python2"
  },
  "language_info": {
   "codemirror_mode": {
    "name": "ipython",
    "version": 2
   },
   "file_extension": ".py",
   "mimetype": "text/x-python",
   "name": "python",
   "nbconvert_exporter": "python",
   "pygments_lexer": "ipython2",
   "version": "2.7.13"
  }
 },
 "nbformat": 4,
 "nbformat_minor": 0
}
